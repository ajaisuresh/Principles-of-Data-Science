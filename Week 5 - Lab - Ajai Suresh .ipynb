{
 "cells": [
  {
   "cell_type": "markdown",
   "id": "5ffbad87",
   "metadata": {},
   "source": [
    "# Exercise 1: Correlation Analysis  "
   ]
  },
  {
   "cell_type": "code",
   "execution_count": 132,
   "id": "92a9a7ba",
   "metadata": {},
   "outputs": [],
   "source": [
    "import pandas as pd\n",
    "import scipy.stats as st\n",
    "import matplotlib.pyplot as plt\n",
    "import scipy as sci"
   ]
  },
  {
   "cell_type": "code",
   "execution_count": 133,
   "id": "cacabd21",
   "metadata": {},
   "outputs": [],
   "source": [
    "CCC = pd.read_csv(\"censusCrimeClean.csv\")"
   ]
  },
  {
   "cell_type": "code",
   "execution_count": 134,
   "id": "9367b3fc",
   "metadata": {
    "scrolled": false
   },
   "outputs": [],
   "source": [
    "income = CCC[\"medIncome\"]\n",
    "violent = CCC[\"ViolentCrimesPerPop\"]            "
   ]
  },
  {
   "cell_type": "code",
   "execution_count": 135,
   "id": "b7b4cef7",
   "metadata": {},
   "outputs": [],
   "source": [
    "pearson = st.pearsonr(income, violent)"
   ]
  },
  {
   "cell_type": "code",
   "execution_count": 136,
   "id": "c7d35bad",
   "metadata": {},
   "outputs": [
    {
     "data": {
      "text/plain": [
       "(-0.424220616726126, 6.334424808048533e-88)"
      ]
     },
     "execution_count": 136,
     "metadata": {},
     "output_type": "execute_result"
    }
   ],
   "source": [
    "pearson"
   ]
  },
  {
   "cell_type": "code",
   "execution_count": 137,
   "id": "f24fc596",
   "metadata": {},
   "outputs": [],
   "source": [
    "spearman = st.spearmanr(income, violent)"
   ]
  },
  {
   "cell_type": "code",
   "execution_count": 138,
   "id": "5bf8ae1e",
   "metadata": {},
   "outputs": [
    {
     "data": {
      "text/plain": [
       "SpearmanrResult(correlation=-0.482169950997556, pvalue=1.2978853095169542e-116)"
      ]
     },
     "execution_count": 138,
     "metadata": {},
     "output_type": "execute_result"
    }
   ],
   "source": [
    "spearman"
   ]
  },
  {
   "cell_type": "code",
   "execution_count": 139,
   "id": "5d456338",
   "metadata": {},
   "outputs": [
    {
     "data": {
      "image/png": "[encoded data removed]",
      "text/plain": [
       "<Figure size 432x288 with 1 Axes>"
      ]
     },
     "metadata": {
      "needs_background": "light"
     },
     "output_type": "display_data"
    }
   ],
   "source": [
    "plt.scatter(income, violent, color = \"y\")\n",
    "plt.show()"
   ]
  },
  {
   "cell_type": "markdown",
   "id": "6427121c",
   "metadata": {},
   "source": [
    "From the scatterplot it can seen that the lower the medIncome it is the higher the ViolentCrimePerPop. "
   ]
  },
  {
   "cell_type": "markdown",
   "id": "62db22fd",
   "metadata": {},
   "source": [
    "# Exercise 2: Significance testing"
   ]
  },
  {
   "cell_type": "code",
   "execution_count": 140,
   "id": "3e24ce1a",
   "metadata": {},
   "outputs": [],
   "source": [
    "heart = pd.read_csv(\"heart.csv\")\n",
    "#heart"
   ]
  },
  {
   "cell_type": "code",
   "execution_count": 141,
   "id": "1021df67",
   "metadata": {},
   "outputs": [],
   "source": [
    "heart[\"Gender\"] = [\"M\" if i==1 else \"F\" for i in heart[\"sex\"]]\n",
    "#heart[\"Gender\"]"
   ]
  },
  {
   "cell_type": "code",
   "execution_count": 142,
   "id": "cb340be7",
   "metadata": {},
   "outputs": [],
   "source": [
    "heart[\"hasHeartDisease\"] = [\"1\" if i==0 else \"0\" for i in heart[\"target\"]]\n",
    "#heart[\"hasHeartDisease\"]"
   ]
  },
  {
   "cell_type": "code",
   "execution_count": 143,
   "id": "6e772e67",
   "metadata": {},
   "outputs": [],
   "source": [
    "posheart = heart[heart[\"hasHeartDisease\"]==\"1\"]"
   ]
  },
  {
   "cell_type": "code",
   "execution_count": 144,
   "id": "bbb64f57",
   "metadata": {},
   "outputs": [
    {
     "data": {
      "text/html": [
       "<div>\n",
       "<style scoped>\n",
       "    .dataframe tbody tr th:only-of-type {\n",
       "        vertical-align: middle;\n",
       "    }\n",
       "\n",
       "    .dataframe tbody tr th {\n",
       "        vertical-align: top;\n",
       "    }\n",
       "\n",
       "    .dataframe thead th {\n",
       "        text-align: right;\n",
       "    }\n",
       "</style>\n",
       "<table border=\"1\" class=\"dataframe\">\n",
       "  <thead>\n",
       "    <tr style=\"text-align: right;\">\n",
       "      <th></th>\n",
       "      <th>age</th>\n",
       "      <th>sex</th>\n",
       "      <th>cp</th>\n",
       "      <th>trestbps</th>\n",
       "      <th>chol</th>\n",
       "      <th>fbs</th>\n",
       "      <th>restecg</th>\n",
       "      <th>thalach</th>\n",
       "      <th>exang</th>\n",
       "      <th>oldpeak</th>\n",
       "      <th>slope</th>\n",
       "      <th>ca</th>\n",
       "      <th>thal</th>\n",
       "      <th>target</th>\n",
       "      <th>Gender</th>\n",
       "      <th>hasHeartDisease</th>\n",
       "    </tr>\n",
       "  </thead>\n",
       "  <tbody>\n",
       "    <tr>\n",
       "      <th>165</th>\n",
       "      <td>67</td>\n",
       "      <td>1</td>\n",
       "      <td>0</td>\n",
       "      <td>160</td>\n",
       "      <td>286</td>\n",
       "      <td>0</td>\n",
       "      <td>0</td>\n",
       "      <td>108</td>\n",
       "      <td>1</td>\n",
       "      <td>1.5</td>\n",
       "      <td>1</td>\n",
       "      <td>3</td>\n",
       "      <td>2</td>\n",
       "      <td>0</td>\n",
       "      <td>M</td>\n",
       "      <td>1</td>\n",
       "    </tr>\n",
       "    <tr>\n",
       "      <th>166</th>\n",
       "      <td>67</td>\n",
       "      <td>1</td>\n",
       "      <td>0</td>\n",
       "      <td>120</td>\n",
       "      <td>229</td>\n",
       "      <td>0</td>\n",
       "      <td>0</td>\n",
       "      <td>129</td>\n",
       "      <td>1</td>\n",
       "      <td>2.6</td>\n",
       "      <td>1</td>\n",
       "      <td>2</td>\n",
       "      <td>3</td>\n",
       "      <td>0</td>\n",
       "      <td>M</td>\n",
       "      <td>1</td>\n",
       "    </tr>\n",
       "    <tr>\n",
       "      <th>167</th>\n",
       "      <td>62</td>\n",
       "      <td>0</td>\n",
       "      <td>0</td>\n",
       "      <td>140</td>\n",
       "      <td>268</td>\n",
       "      <td>0</td>\n",
       "      <td>0</td>\n",
       "      <td>160</td>\n",
       "      <td>0</td>\n",
       "      <td>3.6</td>\n",
       "      <td>0</td>\n",
       "      <td>2</td>\n",
       "      <td>2</td>\n",
       "      <td>0</td>\n",
       "      <td>F</td>\n",
       "      <td>1</td>\n",
       "    </tr>\n",
       "    <tr>\n",
       "      <th>168</th>\n",
       "      <td>63</td>\n",
       "      <td>1</td>\n",
       "      <td>0</td>\n",
       "      <td>130</td>\n",
       "      <td>254</td>\n",
       "      <td>0</td>\n",
       "      <td>0</td>\n",
       "      <td>147</td>\n",
       "      <td>0</td>\n",
       "      <td>1.4</td>\n",
       "      <td>1</td>\n",
       "      <td>1</td>\n",
       "      <td>3</td>\n",
       "      <td>0</td>\n",
       "      <td>M</td>\n",
       "      <td>1</td>\n",
       "    </tr>\n",
       "    <tr>\n",
       "      <th>169</th>\n",
       "      <td>53</td>\n",
       "      <td>1</td>\n",
       "      <td>0</td>\n",
       "      <td>140</td>\n",
       "      <td>203</td>\n",
       "      <td>1</td>\n",
       "      <td>0</td>\n",
       "      <td>155</td>\n",
       "      <td>1</td>\n",
       "      <td>3.1</td>\n",
       "      <td>0</td>\n",
       "      <td>0</td>\n",
       "      <td>3</td>\n",
       "      <td>0</td>\n",
       "      <td>M</td>\n",
       "      <td>1</td>\n",
       "    </tr>\n",
       "  </tbody>\n",
       "</table>\n",
       "</div>"
      ],
      "text/plain": [
       "     age  sex  cp  trestbps  chol  fbs  restecg  thalach  exang  oldpeak  \\\n",
       "165   67    1   0       160   286    0        0      108      1      1.5   \n",
       "166   67    1   0       120   229    0        0      129      1      2.6   \n",
       "167   62    0   0       140   268    0        0      160      0      3.6   \n",
       "168   63    1   0       130   254    0        0      147      0      1.4   \n",
       "169   53    1   0       140   203    1        0      155      1      3.1   \n",
       "\n",
       "     slope  ca  thal  target Gender hasHeartDisease  \n",
       "165      1   3     2       0      M               1  \n",
       "166      1   2     3       0      M               1  \n",
       "167      0   2     2       0      F               1  \n",
       "168      1   1     3       0      M               1  \n",
       "169      0   0     3       0      M               1  "
      ]
     },
     "execution_count": 144,
     "metadata": {},
     "output_type": "execute_result"
    }
   ],
   "source": [
    "posheart.head()"
   ]
  },
  {
   "cell_type": "code",
   "execution_count": 145,
   "id": "226ae347",
   "metadata": {},
   "outputs": [],
   "source": [
    "negheart = heart[heart[\"hasHeartDisease\"]==\"0\"]"
   ]
  },
  {
   "cell_type": "code",
   "execution_count": 146,
   "id": "de356ac7",
   "metadata": {},
   "outputs": [
    {
     "data": {
      "text/html": [
       "<div>\n",
       "<style scoped>\n",
       "    .dataframe tbody tr th:only-of-type {\n",
       "        vertical-align: middle;\n",
       "    }\n",
       "\n",
       "    .dataframe tbody tr th {\n",
       "        vertical-align: top;\n",
       "    }\n",
       "\n",
       "    .dataframe thead th {\n",
       "        text-align: right;\n",
       "    }\n",
       "</style>\n",
       "<table border=\"1\" class=\"dataframe\">\n",
       "  <thead>\n",
       "    <tr style=\"text-align: right;\">\n",
       "      <th></th>\n",
       "      <th>age</th>\n",
       "      <th>sex</th>\n",
       "      <th>cp</th>\n",
       "      <th>trestbps</th>\n",
       "      <th>chol</th>\n",
       "      <th>fbs</th>\n",
       "      <th>restecg</th>\n",
       "      <th>thalach</th>\n",
       "      <th>exang</th>\n",
       "      <th>oldpeak</th>\n",
       "      <th>slope</th>\n",
       "      <th>ca</th>\n",
       "      <th>thal</th>\n",
       "      <th>target</th>\n",
       "      <th>Gender</th>\n",
       "      <th>hasHeartDisease</th>\n",
       "    </tr>\n",
       "  </thead>\n",
       "  <tbody>\n",
       "    <tr>\n",
       "      <th>0</th>\n",
       "      <td>63</td>\n",
       "      <td>1</td>\n",
       "      <td>3</td>\n",
       "      <td>145</td>\n",
       "      <td>233</td>\n",
       "      <td>1</td>\n",
       "      <td>0</td>\n",
       "      <td>150</td>\n",
       "      <td>0</td>\n",
       "      <td>2.3</td>\n",
       "      <td>0</td>\n",
       "      <td>0</td>\n",
       "      <td>1</td>\n",
       "      <td>1</td>\n",
       "      <td>M</td>\n",
       "      <td>0</td>\n",
       "    </tr>\n",
       "    <tr>\n",
       "      <th>1</th>\n",
       "      <td>37</td>\n",
       "      <td>1</td>\n",
       "      <td>2</td>\n",
       "      <td>130</td>\n",
       "      <td>250</td>\n",
       "      <td>0</td>\n",
       "      <td>1</td>\n",
       "      <td>187</td>\n",
       "      <td>0</td>\n",
       "      <td>3.5</td>\n",
       "      <td>0</td>\n",
       "      <td>0</td>\n",
       "      <td>2</td>\n",
       "      <td>1</td>\n",
       "      <td>M</td>\n",
       "      <td>0</td>\n",
       "    </tr>\n",
       "    <tr>\n",
       "      <th>2</th>\n",
       "      <td>41</td>\n",
       "      <td>0</td>\n",
       "      <td>1</td>\n",
       "      <td>130</td>\n",
       "      <td>204</td>\n",
       "      <td>0</td>\n",
       "      <td>0</td>\n",
       "      <td>172</td>\n",
       "      <td>0</td>\n",
       "      <td>1.4</td>\n",
       "      <td>2</td>\n",
       "      <td>0</td>\n",
       "      <td>2</td>\n",
       "      <td>1</td>\n",
       "      <td>F</td>\n",
       "      <td>0</td>\n",
       "    </tr>\n",
       "    <tr>\n",
       "      <th>3</th>\n",
       "      <td>56</td>\n",
       "      <td>1</td>\n",
       "      <td>1</td>\n",
       "      <td>120</td>\n",
       "      <td>236</td>\n",
       "      <td>0</td>\n",
       "      <td>1</td>\n",
       "      <td>178</td>\n",
       "      <td>0</td>\n",
       "      <td>0.8</td>\n",
       "      <td>2</td>\n",
       "      <td>0</td>\n",
       "      <td>2</td>\n",
       "      <td>1</td>\n",
       "      <td>M</td>\n",
       "      <td>0</td>\n",
       "    </tr>\n",
       "    <tr>\n",
       "      <th>4</th>\n",
       "      <td>57</td>\n",
       "      <td>0</td>\n",
       "      <td>0</td>\n",
       "      <td>120</td>\n",
       "      <td>354</td>\n",
       "      <td>0</td>\n",
       "      <td>1</td>\n",
       "      <td>163</td>\n",
       "      <td>1</td>\n",
       "      <td>0.6</td>\n",
       "      <td>2</td>\n",
       "      <td>0</td>\n",
       "      <td>2</td>\n",
       "      <td>1</td>\n",
       "      <td>F</td>\n",
       "      <td>0</td>\n",
       "    </tr>\n",
       "  </tbody>\n",
       "</table>\n",
       "</div>"
      ],
      "text/plain": [
       "   age  sex  cp  trestbps  chol  fbs  restecg  thalach  exang  oldpeak  slope  \\\n",
       "0   63    1   3       145   233    1        0      150      0      2.3      0   \n",
       "1   37    1   2       130   250    0        1      187      0      3.5      0   \n",
       "2   41    0   1       130   204    0        0      172      0      1.4      2   \n",
       "3   56    1   1       120   236    0        1      178      0      0.8      2   \n",
       "4   57    0   0       120   354    0        1      163      1      0.6      2   \n",
       "\n",
       "   ca  thal  target Gender hasHeartDisease  \n",
       "0   0     1       1      M               0  \n",
       "1   0     2       1      M               0  \n",
       "2   0     2       1      F               0  \n",
       "3   0     2       1      M               0  \n",
       "4   0     2       1      F               0  "
      ]
     },
     "execution_count": 146,
     "metadata": {},
     "output_type": "execute_result"
    }
   ],
   "source": [
    "negheart.head()"
   ]
  },
  {
   "cell_type": "code",
   "execution_count": 147,
   "id": "3d7e0d56",
   "metadata": {},
   "outputs": [
    {
     "data": {
      "text/plain": [
       "age                 5.660145e+01\n",
       "sex                 8.260870e-01\n",
       "cp                  4.782609e-01\n",
       "trestbps            1.343986e+02\n",
       "chol                2.510870e+02\n",
       "fbs                 1.594203e-01\n",
       "restecg             4.492754e-01\n",
       "thalach             1.391014e+02\n",
       "exang               5.507246e-01\n",
       "oldpeak             1.585507e+00\n",
       "slope               1.166667e+00\n",
       "ca                  1.166667e+00\n",
       "thal                2.543478e+00\n",
       "target              0.000000e+00\n",
       "hasHeartDisease    8.051530e+134\n",
       "dtype: float64"
      ]
     },
     "execution_count": 147,
     "metadata": {},
     "output_type": "execute_result"
    }
   ],
   "source": [
    "posheart.mean()\n"
   ]
  },
  {
   "cell_type": "code",
   "execution_count": 148,
   "id": "d86b1b5a",
   "metadata": {},
   "outputs": [
    {
     "data": {
      "text/plain": [
       "age          7.962082\n",
       "sex          0.380416\n",
       "cp           0.905920\n",
       "trestbps    18.729944\n",
       "chol        49.454614\n",
       "fbs          0.367401\n",
       "restecg      0.541321\n",
       "thalach     22.598782\n",
       "exang        0.499232\n",
       "oldpeak      1.300340\n",
       "slope        0.561324\n",
       "ca           1.043460\n",
       "thal         0.684762\n",
       "target       0.000000\n",
       "dtype: float64"
      ]
     },
     "execution_count": 148,
     "metadata": {},
     "output_type": "execute_result"
    }
   ],
   "source": [
    "posheart.std()"
   ]
  },
  {
   "cell_type": "code",
   "execution_count": 149,
   "id": "6b821530",
   "metadata": {},
   "outputs": [
    {
     "data": {
      "text/plain": [
       "age                 52.496970\n",
       "sex                  0.563636\n",
       "cp                   1.375758\n",
       "trestbps           129.303030\n",
       "chol               242.230303\n",
       "fbs                  0.139394\n",
       "restecg              0.593939\n",
       "thalach            158.466667\n",
       "exang                0.139394\n",
       "oldpeak              0.583030\n",
       "slope                1.593939\n",
       "ca                   0.363636\n",
       "thal                 2.121212\n",
       "target               1.000000\n",
       "hasHeartDisease      0.000000\n",
       "dtype: float64"
      ]
     },
     "execution_count": 149,
     "metadata": {},
     "output_type": "execute_result"
    }
   ],
   "source": [
    "negheart.mean()"
   ]
  },
  {
   "cell_type": "code",
   "execution_count": 150,
   "id": "16b33521",
   "metadata": {},
   "outputs": [
    {
     "data": {
      "text/plain": [
       "age          9.550651\n",
       "sex          0.497444\n",
       "cp           0.952222\n",
       "trestbps    16.169613\n",
       "chol        53.552872\n",
       "fbs          0.347412\n",
       "restecg      0.504818\n",
       "thalach     19.174276\n",
       "exang        0.347412\n",
       "oldpeak      0.780683\n",
       "slope        0.593635\n",
       "ca           0.848894\n",
       "thal         0.465752\n",
       "target       0.000000\n",
       "dtype: float64"
      ]
     },
     "execution_count": 150,
     "metadata": {},
     "output_type": "execute_result"
    }
   ],
   "source": [
    "negheart.std()"
   ]
  },
  {
   "cell_type": "code",
   "execution_count": 151,
   "id": "37851e13",
   "metadata": {},
   "outputs": [
    {
     "data": {
      "text/plain": [
       "(array([ 4., 19., 35., 27., 24., 12.,  8.,  5.,  2.,  2.]),\n",
       " array([100., 110., 120., 130., 140., 150., 160., 170., 180., 190., 200.]),\n",
       " <BarContainer object of 10 artists>)"
      ]
     },
     "execution_count": 151,
     "metadata": {},
     "output_type": "execute_result"
    },
    {
     "data": {
      "image/png": "[encoded data removed]",
      "text/plain": [
       "<Figure size 432x288 with 1 Axes>"
      ]
     },
     "metadata": {
      "needs_background": "light"
     },
     "output_type": "display_data"
    }
   ],
   "source": [
    "plt.hist(x=posheart[\"trestbps\"])"
   ]
  },
  {
   "cell_type": "code",
   "execution_count": 152,
   "id": "925f2922",
   "metadata": {},
   "outputs": [
    {
     "data": {
      "text/plain": [
       "(array([ 7., 17., 13., 39., 35., 30., 13.,  7.,  1.,  3.]),\n",
       " array([ 94. , 102.6, 111.2, 119.8, 128.4, 137. , 145.6, 154.2, 162.8,\n",
       "        171.4, 180. ]),\n",
       " <BarContainer object of 10 artists>)"
      ]
     },
     "execution_count": 152,
     "metadata": {},
     "output_type": "execute_result"
    },
    {
     "data": {
      "image/png": "[encoded data removed]",
      "text/plain": [
       "<Figure size 432x288 with 1 Axes>"
      ]
     },
     "metadata": {
      "needs_background": "light"
     },
     "output_type": "display_data"
    }
   ],
   "source": [
    "plt.hist(x=negheart[\"trestbps\"])"
   ]
  },
  {
   "cell_type": "code",
   "execution_count": 153,
   "id": "91e494dd",
   "metadata": {},
   "outputs": [
    {
     "data": {
      "image/png": "[encoded data removed]",
      "text/plain": [
       "<Figure size 432x288 with 1 Axes>"
      ]
     },
     "metadata": {
      "needs_background": "light"
     },
     "output_type": "display_data"
    }
   ],
   "source": [
    "plt.boxplot(x=posheart[\"trestbps\"])\n",
    "plt.show()"
   ]
  },
  {
   "cell_type": "code",
   "execution_count": 154,
   "id": "96b522c2",
   "metadata": {},
   "outputs": [
    {
     "data": {
      "image/png": "[encoded data removed]",
      "text/plain": [
       "<Figure size 432x288 with 1 Axes>"
      ]
     },
     "metadata": {
      "needs_background": "light"
     },
     "output_type": "display_data"
    }
   ],
   "source": [
    "plt.boxplot(x=negheart[\"trestbps\"])\n",
    "plt.show()"
   ]
  },
  {
   "cell_type": "code",
   "execution_count": 155,
   "id": "f04ae36a",
   "metadata": {},
   "outputs": [
    {
     "ename": "AttributeError",
     "evalue": "module 'scipy' has no attribute 'ttest_ind'",
     "output_type": "error",
     "traceback": [
      "\u001b[1;31m---------------------------------------------------------------------------\u001b[0m",
      "\u001b[1;31mAttributeError\u001b[0m                            Traceback (most recent call last)",
      "\u001b[1;32m<ipython-input-155-505e415510a3>\u001b[0m in \u001b[0;36m<module>\u001b[1;34m\u001b[0m\n\u001b[1;32m----> 1\u001b[1;33m \u001b[0msci\u001b[0m\u001b[1;33m.\u001b[0m\u001b[0mttest_ind\u001b[0m\u001b[1;33m(\u001b[0m\u001b[0mnegheart\u001b[0m\u001b[1;33m[\u001b[0m\u001b[1;34m\"trestbps\"\u001b[0m\u001b[1;33m]\u001b[0m\u001b[1;33m,\u001b[0m \u001b[0mposheart\u001b[0m\u001b[1;33m[\u001b[0m\u001b[1;34m\"trestbps\"\u001b[0m\u001b[1;33m]\u001b[0m\u001b[1;33m)\u001b[0m\u001b[1;33m\u001b[0m\u001b[1;33m\u001b[0m\u001b[0m\n\u001b[0m",
      "\u001b[1;31mAttributeError\u001b[0m: module 'scipy' has no attribute 'ttest_ind'"
     ]
    }
   ],
   "source": [
    "sci.ttest_ind(negheart[\"trestbps\"], posheart[\"trestbps\"])"
   ]
  },
  {
   "cell_type": "code",
   "execution_count": null,
   "id": "bf2720cc",
   "metadata": {},
   "outputs": [],
   "source": []
  },
  {
   "cell_type": "code",
   "execution_count": null,
   "id": "16745768",
   "metadata": {},
   "outputs": [],
   "source": []
  },
  {
   "cell_type": "code",
   "execution_count": null,
   "id": "00f84849",
   "metadata": {},
   "outputs": [],
   "source": []
  },
  {
   "cell_type": "code",
   "execution_count": null,
   "id": "cb174a87",
   "metadata": {},
   "outputs": [],
   "source": []
  }
 ],
 "metadata": {
  "kernelspec": {
   "display_name": "Python 3",
   "language": "python",
   "name": "python3"
  },
  "language_info": {
   "codemirror_mode": {
    "name": "ipython",
    "version": 3
   },
   "file_extension": ".py",
   "mimetype": "text/x-python",
   "name": "python",
   "nbconvert_exporter": "python",
   "pygments_lexer": "ipython3",
   "version": "3.8.8"
  }
 },
 "nbformat": 4,
 "nbformat_minor": 5
}
